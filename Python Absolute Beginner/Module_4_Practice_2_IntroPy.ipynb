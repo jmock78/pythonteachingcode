{
 "cells": [
  {
   "cell_type": "markdown",
   "metadata": {},
   "source": [
    "# 1-7.2 Intro Python Practice\n",
    "## `while()` loops & increments\n",
    "<font size=\"5\" color=\"#00A0B2\"  face=\"verdana\"> <B>Student will be able to</B></font>\n",
    "- create forever loops using `while` and `break`\n",
    "- use incrementing variables in a while loop\n",
    "- control while loops using Boolean operators"
   ]
  },
  {
   "cell_type": "code",
   "execution_count": 6,
   "metadata": {},
   "outputs": [
    {
     "name": "stdout",
     "output_type": "stream",
     "text": [
      "Enter an integer: 1\n",
      "Enter an integer: 2\n",
      "Enter an integer: 3\n",
      "Enter an integer: 4\n",
      "Enter an integer: 5\n",
      "Enter an integer: a\n",
      "15\n"
     ]
    }
   ],
   "source": [
    "# [ ] use a \"forever\" while loop to get user input of integers to add to sum, \n",
    "# until a non-digit is entered, then break the loop and print sum\n",
    "sum = 0\n",
    "\n",
    "while True:\n",
    "    addToSum = input(\"Enter an integer: \")\n",
    "    if addToSum.isdigit():\n",
    "        sum += int(addToSum)\n",
    "    else:\n",
    "        break\n",
    "\n",
    "print(sum)"
   ]
  },
  {
   "cell_type": "code",
   "execution_count": 28,
   "metadata": {},
   "outputs": [
    {
     "name": "stdout",
     "output_type": "stream",
     "text": [
      "Enter a color in a rainbow: cyan\n",
      "Try Again!\n",
      "Enter a color in a rainbow: cyan\n",
      "Try Again!\n",
      "Enter a color in a rainbow: cyan\n",
      "Try Again!\n",
      "Enter a color in a rainbow: cyan\n",
      "Try Again!\n",
      "Out of Attempts!\n"
     ]
    }
   ],
   "source": [
    "# [ ] use a while True loop (forever loop) to give 4 chances for input of a correct color in a rainbow\n",
    "rainbow = \"red orange yellow green blue indigo violet\"\n",
    "attempts = 0\n",
    "\n",
    "while True: \n",
    "\n",
    "    color_guess = input(\"Enter a color in a rainbow: \")\n",
    "        \n",
    "    if (color_guess in rainbow) == False:\n",
    "        print()\n",
    "    elif color_guess in rainbow:\n",
    "        print(\"Correct!\")\n",
    "        break\n",
    "    attempts += 1\n",
    "    \n",
    "    if attempts >= 4:\n",
    "        print(\"Out of Attempts!\")\n",
    "        break\n",
    "    \n",
    "    \n"
   ]
  },
  {
   "cell_type": "code",
   "execution_count": 30,
   "metadata": {},
   "outputs": [
    {
     "name": "stdout",
     "output_type": "stream",
     "text": [
      "Enter a book title: To Kill A Mockingbird\n",
      "The title of the book is To Kill A Mockingbird\n"
     ]
    }
   ],
   "source": [
    "# [ ] Get input for a book title, keep looping while input is Not in title format (title is every word capitalized)\n",
    "title = \"\"\n",
    "user_title = input(\"Enter a book title: \")\n",
    "\n",
    "while user_title.istitle() == False:\n",
    "    user_title = input(\"Enter a book title: \")\n",
    "    \n",
    "print(\"The title of the book is\", user_title)\n"
   ]
  },
  {
   "cell_type": "code",
   "execution_count": 31,
   "metadata": {},
   "outputs": [
    {
     "name": "stdout",
     "output_type": "stream",
     "text": [
      "What is 10 + 32?: 10\n",
      "What is 10 + 32?: 42\n",
      "Correct!\n"
     ]
    }
   ],
   "source": [
    "# [ ] create a math quiz question and ask for the solution until the input is correct\n",
    "answer = 42\n",
    "user_answer = input(\"What is 10 + 32?: \")\n",
    "\n",
    "while int(user_answer) != answer:\n",
    "    user_answer = input(\"What is 10 + 32?: \")\n",
    "    \n",
    "print(\"Correct!\")\n"
   ]
  },
  {
   "cell_type": "markdown",
   "metadata": {},
   "source": [
    "### Fix the Error"
   ]
  },
  {
   "cell_type": "code",
   "execution_count": 37,
   "metadata": {},
   "outputs": [
    {
     "name": "stdout",
     "output_type": "stream",
     "text": [
      "enter tickets remaining (0 to quit): 1\n",
      "sorry, not a winner.\n",
      "enter tickets remaining (0 to quit): 2\n",
      "sorry, not a winner.\n",
      "enter tickets remaining (0 to quit): 3\n",
      "you win!\n",
      "enter tickets remaining (0 to quit): 0\n",
      "Game ended\n"
     ]
    }
   ],
   "source": [
    "# [ ] review the code, run, fix the error\n",
    "tickets = int(input(\"enter tickets remaining (0 to quit): \"))\n",
    "\n",
    "while tickets > 0:\n",
    "        # if tickets are multiple of 3 then \"winner\"\n",
    "    if int(tickets/3) == tickets/3:\n",
    "        print(\"you win!\")\n",
    "    else:\n",
    "        print(\"sorry, not a winner.\")\n",
    "    tickets = int(input(\"enter tickets remaining (0 to quit): \"))\n",
    "\n",
    "print(\"Game ended\")\n",
    "    \n"
   ]
  },
  {
   "cell_type": "markdown",
   "metadata": {},
   "source": [
    "### create a function: quiz_item()  that asks a question and tests if input is correct  \n",
    "- quiz_item()has 2 parameter **strings**: question and solution  \n",
    "- shows question, gets answer input  \n",
    "- returns True if `answer == solution` or continues to ask question until correct answer is provided  \n",
    "- use a while loop\n",
    "\n",
    "create 2 or more quiz questions that call quiz_item()  \n",
    "**Hint**: provide multiple choice or T/F answers"
   ]
  },
  {
   "cell_type": "code",
   "execution_count": 47,
   "metadata": {},
   "outputs": [
    {
     "name": "stdout",
     "output_type": "stream",
     "text": [
      "Is the capital of Georgia Atlanta?: t\n",
      "Is the answer to all things 42?: t\n"
     ]
    },
    {
     "data": {
      "text/plain": [
       "True"
      ]
     },
     "execution_count": 47,
     "metadata": {},
     "output_type": "execute_result"
    }
   ],
   "source": [
    "# Create quiz_item() and 2 or more quiz questions that call quiz_item()\n",
    "def quiz_item(question, solution):\n",
    "    user_answer = input(question + \": \").upper()\n",
    "    while user_answer != solution:\n",
    "        user_answer = input(\"Try Again!: \").upper()\n",
    "    return True\n",
    "\n",
    "quiz_item(\"Is the capital of Georgia Atlanta?\", \"T\")\n",
    "quiz_item(\"Is the answer to all things 42?\", \"T\")\n"
   ]
  },
  {
   "cell_type": "markdown",
   "metadata": {
    "collapsed": true
   },
   "source": [
    "[Terms of use](http://go.microsoft.com/fwlink/?LinkID=206977) &nbsp; [Privacy & cookies](https://go.microsoft.com/fwlink/?LinkId=521839) &nbsp; © 2017 Microsoft"
   ]
  }
 ],
 "metadata": {
  "anaconda-cloud": {},
  "kernelspec": {
   "display_name": "Python 3",
   "language": "python",
   "name": "python3"
  },
  "language_info": {
   "codemirror_mode": {
    "name": "ipython",
    "version": 3
   },
   "file_extension": ".py",
   "mimetype": "text/x-python",
   "name": "python",
   "nbconvert_exporter": "python",
   "pygments_lexer": "ipython3",
   "version": "3.8.5"
  }
 },
 "nbformat": 4,
 "nbformat_minor": 1
}
