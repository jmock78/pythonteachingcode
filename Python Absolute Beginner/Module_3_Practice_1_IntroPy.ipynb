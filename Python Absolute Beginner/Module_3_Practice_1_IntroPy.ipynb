{
 "cells": [
  {
   "cell_type": "markdown",
   "metadata": {},
   "source": [
    "# 1-4.3 Intro Python Practice\n",
    "## Conditionals \n",
    "<font size=\"5\" color=\"#00A0B2\"  face=\"verdana\"> <B>Student will be able to</B></font>  \n",
    "- **control code flow with `if`... `else` conditional logic**  \n",
    "  - using Boolean string methods (`.isupper(), .isalpha(), .startswith()...`)  \n",
    "  - using comparision (`>, <, >=, <=, ==, !=`)  \n",
    "  - using Strings in comparisons  "
   ]
  },
  {
   "cell_type": "markdown",
   "metadata": {},
   "source": [
    "## `if else`\n"
   ]
  },
  {
   "cell_type": "code",
   "execution_count": 6,
   "metadata": {},
   "outputs": [
    {
     "name": "stdout",
     "output_type": "stream",
     "text": [
      "Enter your age: 10\n",
      "It is good to be 10\n"
     ]
    }
   ],
   "source": [
    "# [ ] input avariable: age as digit and cast to int\n",
    "# if age greater than or equal to 12 then print message on age in 10 years \n",
    "# or else print message \"It is good to be\" age\n",
    "age = int(input(\"Enter your age: \"))\n",
    "if age >= 12:\n",
    "    print(\"In 10 years you will be \", str(age + 10))\n",
    "else:\n",
    "    print(\"It is good to be\", str(age))\n",
    "\n",
    "\n"
   ]
  },
  {
   "cell_type": "code",
   "execution_count": 15,
   "metadata": {},
   "outputs": [
    {
     "name": "stdout",
     "output_type": "stream",
     "text": [
      "Enter a number: 9\n",
      "9 greater than 100 is False\n"
     ]
    }
   ],
   "source": [
    "# [ ] input a number \n",
    "# if number IS a digit string then cast to int\n",
    "# print number \"greater than 100 is\" True/False\n",
    "# if number is NOT a digit string then message the user that \"only int is accepted\"\n",
    "number = input(\"Enter a number: \")\n",
    "if number.isdigit():\n",
    "    print(number, \"greater than 100 is\", int(number) > 100)\n",
    "else:\n",
    "    print(\"Only int is accepted.\")\n"
   ]
  },
  {
   "cell_type": "markdown",
   "metadata": {},
   "source": [
    "### Guessing a letter A-Z  \n",
    "**check_guess()** takes 2 string arguments: **letter and guess** (both expect single alphabetical character)   \n",
    "    - if guess is not an alpha character print invalid and return False\n",
    "    - test and print if guess is \"high\" or \"low\" and return False\n",
    "    - test and print if guess is \"correct\" and return True"
   ]
  },
  {
   "cell_type": "code",
   "execution_count": 57,
   "metadata": {},
   "outputs": [
    {
     "name": "stdout",
     "output_type": "stream",
     "text": [
      "High\n"
     ]
    },
    {
     "data": {
      "text/plain": [
       "False"
      ]
     },
     "execution_count": 57,
     "metadata": {},
     "output_type": "execute_result"
    }
   ],
   "source": [
    "# [ ] create check_guess()\n",
    "def check_guess(letter, guess):\n",
    "    if guess.isalpha():\n",
    "        if guess > letter:\n",
    "            print(\"High\")\n",
    "            return guess == letter\n",
    "        elif guess < letter:\n",
    "            print(\"Low\")\n",
    "            return guess == letter\n",
    "        elif guess == letter:\n",
    "            print(\"Correct!\")\n",
    "            return guess == letter\n",
    "    else:\n",
    "        print(\"invalid\")\n",
    "        return letter == guess\n",
    "# initialize the letter to guess\n",
    "letter = \"c\"\n",
    "# call with test\n",
    "check_guess(letter,\"d\")\n",
    "\n"
   ]
  },
  {
   "cell_type": "code",
   "execution_count": 51,
   "metadata": {},
   "outputs": [
    {
     "name": "stdout",
     "output_type": "stream",
     "text": [
      "Enter a single lowercase alphabetical character: c\n",
      "Correct!True\n"
     ]
    }
   ],
   "source": [
    "# [ ] call check_guess with user input\n",
    "numGuess = input(\"Enter a single lowercase alphabetical character: \")\n",
    "print(check_guess(letter, numGuess))"
   ]
  },
  {
   "cell_type": "markdown",
   "metadata": {},
   "source": [
    "### Letter Guess\n",
    "**create letter_guess() function that gives user 3 guesses**\n",
    "- takes a letter character argument for the answer letter\n",
    "- gets user input for letter guess  \n",
    "- calls check_guess() with answer and guess\n",
    "- End letter_guess if \n",
    "    - check_guess() equals True, return True  \n",
    "    - or after 3 failed attempts, return False"
   ]
  },
  {
   "cell_type": "code",
   "execution_count": 78,
   "metadata": {},
   "outputs": [
    {
     "name": "stdout",
     "output_type": "stream",
     "text": [
      "Enter a single lowercase alphabetical character: c\n",
      "Correct!\n"
     ]
    }
   ],
   "source": [
    "# [ ] create letter_guess() function, call the function to test\n",
    "def letter_guess(letterGuess):\n",
    "    userGuess = input(\"Enter a single lowercase alphabetical character: \")\n",
    "    if check_guess(letter, userGuess):\n",
    "        return\n",
    "    else:\n",
    "        userGuess = input(\"Try again:  \")\n",
    "    if check_guess(letter, userGuess):\n",
    "        return\n",
    "    else:\n",
    "        userGuess = input(\"Try again:  \")\n",
    "    if check_guess(letter, userGuess):\n",
    "        return\n",
    "    else:\n",
    "        return False\n",
    "letter_guess(letter)\n"
   ]
  },
  {
   "cell_type": "markdown",
   "metadata": {},
   "source": [
    "### Pet Conversation\n",
    "**ask the user for a sentence about a pet and then reply**  \n",
    "- get user input in variable: about_pet\n",
    "- using a series of **if** statements respond with appropriate conversation\n",
    "  - check if \"dog\" is in the string about_pet (sample reply \"Ah, a dog\")\n",
    "  - check if \"cat\" is in the string about_pet\n",
    "  - check if 1 or more animal is in string about_pet\n",
    "- no need for **else**'s\n",
    "- finish with thanking for the story"
   ]
  },
  {
   "cell_type": "code",
   "execution_count": 80,
   "metadata": {},
   "outputs": [
    {
     "name": "stdout",
     "output_type": "stream",
     "text": [
      "What type of pet do you have? : hamster\n",
      "Hamsters love tubes!\n",
      "Thank you for telling me what pet you have!\n"
     ]
    }
   ],
   "source": [
    "# [ ] complete pet conversation\n",
    "about_pet = input(\"What type of pet do you have? : \")\n",
    "# Check the type of animal and return a friendly statement\n",
    "if about_pet.lower() == 'dog':\n",
    "    print(\"I hope he is the goodest of dogs!\")\n",
    "elif about_pet.lower() == 'cat':\n",
    "    print(\"I hope he gets all the catnip!\")\n",
    "elif about_pet.lower() == 'hamster':\n",
    "    print(\"Hamsters love tubes!\")\n",
    "print(\"Thank you for telling me what pet you have!\")\n"
   ]
  },
  {
   "cell_type": "markdown",
   "metadata": {
    "collapsed": true
   },
   "source": [
    "[Terms of use](http://go.microsoft.com/fwlink/?LinkID=206977) &nbsp; [Privacy & cookies](https://go.microsoft.com/fwlink/?LinkId=521839) &nbsp; © 2017 Microsoft"
   ]
  }
 ],
 "metadata": {
  "anaconda-cloud": {},
  "kernelspec": {
   "display_name": "Python 3",
   "language": "python",
   "name": "python3"
  },
  "language_info": {
   "codemirror_mode": {
    "name": "ipython",
    "version": 3
   },
   "file_extension": ".py",
   "mimetype": "text/x-python",
   "name": "python",
   "nbconvert_exporter": "python",
   "pygments_lexer": "ipython3",
   "version": "3.8.5"
  }
 },
 "nbformat": 4,
 "nbformat_minor": 1
}
