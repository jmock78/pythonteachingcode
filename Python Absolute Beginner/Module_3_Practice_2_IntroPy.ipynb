{
 "cells": [
  {
   "cell_type": "markdown",
   "metadata": {},
   "source": [
    "# 1-5 Intro Python Practice  \n",
    "## conditionals, type, and mathematics extended   \n",
    "&nbsp;\n",
    "<font size=\"5\" color=\"#00A0B2\"  face=\"verdana\"> <B>Student will be able to</B></font>  \n",
    "- code more than two choices using **`elif`** \n",
    "- gather numeric input using type casting  \n",
    "- perform subtraction, multiplication and division operations in code  &nbsp;  \n"
   ]
  },
  {
   "cell_type": "markdown",
   "metadata": {},
   "source": [
    "# &nbsp;  \n",
    "<font size=\"6\" color=\"#B24C00\"  face=\"verdana\"> <B>Tasks</B></font>"
   ]
  },
  {
   "cell_type": "markdown",
   "metadata": {},
   "source": [
    "### Rainbow colors\n",
    "ask for input of a favorite rainbow color first letter: ROYGBIV  \n",
    "\n",
    "Using `if`, `elif`, and `else`:  \n",
    "- print the color matching the letter  \n",
    "    - R = Red  \n",
    "    - O = Orange  \n",
    "    - Y = Yellow  \n",
    "    - G = Green\n",
    "    - B = Blue\n",
    "    - I = Indigo\n",
    "    - V = Violet\n",
    "    - else print \"no match\"\n"
   ]
  },
  {
   "cell_type": "code",
   "execution_count": 2,
   "metadata": {},
   "outputs": [
    {
     "name": "stdout",
     "output_type": "stream",
     "text": [
      "Enter the first letter of your favorite color: q\n",
      "No match\n"
     ]
    }
   ],
   "source": [
    "# [ ] complete rainbow colors\n",
    "userColor = input(\"Enter the first letter of your favorite color: \")\n",
    "if userColor.upper() == 'R':\n",
    "    print(\"Red\")\n",
    "elif userColor.upper() == 'O':\n",
    "    print(\"Orange\")\n",
    "elif userColor.upper() == 'Y':\n",
    "    print(\"Yellow\")\n",
    "elif userColor.upper() == 'G':\n",
    "    print(\"Green\")\n",
    "elif userColor.upper() == 'B':\n",
    "    print(\"Blue\")\n",
    "elif userColor.upper() == 'I':\n",
    "    print(\"Indigo\")\n",
    "elif userColor.upper() == 'V':\n",
    "    print(\"Violet\")\n",
    "else:\n",
    "    print('No match')\n"
   ]
  },
  {
   "cell_type": "code",
   "execution_count": 5,
   "metadata": {},
   "outputs": [
    {
     "name": "stdout",
     "output_type": "stream",
     "text": [
      "Enter the first letter of your favorite color: y\n",
      "Yellow\n"
     ]
    }
   ],
   "source": [
    "# [ ] make the code above into a function rainbow_color() that has a string parameter, \n",
    "# get input and call the function and return the matching color as a string or \"no match\" message.\n",
    "# Call the function and print the return string.\n",
    "def rainbow_color(string):\n",
    "    if string.upper() == 'R':\n",
    "        return \"Red\"\n",
    "    elif string.upper() == 'O':\n",
    "        return \"Orange\"\n",
    "    elif string.upper() == 'Y':\n",
    "        return \"Yellow\"\n",
    "    elif string.upper() == 'G':\n",
    "        return \"Green\"\n",
    "    elif string.upper() == 'B':\n",
    "        return \"Blue\"\n",
    "    elif string.upper() == 'I':\n",
    "        return \"Indigo\"\n",
    "    elif string.upper() == 'V':\n",
    "        return \"Violet\"\n",
    "    else:\n",
    "        print('No match')\n",
    "        \n",
    "userColor = input(\"Enter the first letter of your favorite color: \")\n",
    "\n",
    "print(rainbow_color(userColor))"
   ]
  },
  {
   "cell_type": "markdown",
   "metadata": {},
   "source": [
    "# &nbsp;  \n",
    "**Create function age_20() that adds or subtracts 20 from your age for a return value based on current age** (use `if`) \n",
    "- call the funtion with user input and then use the return value in a sentence  \n",
    "example `age_20(25)` returns **5**: \n",
    "> \"5 years old, 20 years difference from now\""
   ]
  },
  {
   "cell_type": "code",
   "execution_count": 19,
   "metadata": {},
   "outputs": [
    {
     "name": "stdout",
     "output_type": "stream",
     "text": [
      "Enter your age: 31\n",
      "11 years old, 20 years difference from now\n"
     ]
    }
   ],
   "source": [
    "# [ ] complete age_20()\n",
    "def age_20(age):\n",
    "    if age < 20:\n",
    "        return age + 20\n",
    "    elif age >= 20:\n",
    "        return age - 20\n",
    "\n",
    "userAge = int(input(\"Enter your age: \"))\n",
    "print(age_20(userAge), \"years old, 20 years difference from now\")\n",
    "        \n"
   ]
  },
  {
   "cell_type": "markdown",
   "metadata": {},
   "source": [
    "**create a function rainbow_or_age that takes a string argument**\n",
    "- if argument is a digit return the value of calling age_20() with the str value cast as **`int`** \n",
    "- if argument is an alphabetical character return the value of calling rainbow_color() with the str\n",
    "- if neither return FALSE"
   ]
  },
  {
   "cell_type": "code",
   "execution_count": 23,
   "metadata": {},
   "outputs": [
    {
     "name": "stdout",
     "output_type": "stream",
     "text": [
      "Enter your age or letter of favorite rainbow color: 31\n",
      "11\n"
     ]
    }
   ],
   "source": [
    "# [ ]  create rainbow_or_age()\n",
    "def rainbow_or_age(string):\n",
    "    if string.isdigit():\n",
    "        return age_20(int(string))\n",
    "    elif string.isalpha():\n",
    "        return rainbow_color(string)\n",
    "    else:\n",
    "        return False\n",
    "    \n",
    "userInput = input('Enter your age or letter of favorite rainbow color: ')\n",
    "\n",
    "print(rainbow_or_age(userInput))\n"
   ]
  },
  {
   "cell_type": "code",
   "execution_count": 26,
   "metadata": {},
   "outputs": [
    {
     "name": "stdout",
     "output_type": "stream",
     "text": [
      "Enter a whole number: 1\n",
      "enter a second whole number: 2\n",
      "1 + 2 = 3\n"
     ]
    }
   ],
   "source": [
    "# [ ]  add 2 numbers from input using a cast to integer and display the answer \n",
    "firstNumber = int(input(\"Enter a whole number: \"))\n",
    "secondNumber = int(input(\"enter a second whole number: \"))\n",
    "\n",
    "print(str(firstNumber), \"+\", str(secondNumber), \"=\", firstNumber + secondNumber)\n"
   ]
  },
  {
   "cell_type": "code",
   "execution_count": 32,
   "metadata": {},
   "outputs": [
    {
     "name": "stdout",
     "output_type": "stream",
     "text": [
      "Enter a whole number: 2\n",
      "enter a second whole number: 3\n",
      "The answer is ... 6\n"
     ]
    }
   ],
   "source": [
    "# [ ] Multiply 2 numbers from input using cast and save the answer as part of a string \"the answer is...\"\n",
    "# display the string using print\n",
    "firstNumber = int(input(\"Enter a whole number: \"))\n",
    "secondNumber = int(input(\"enter a second whole number: \"))\n",
    "\n",
    "answer = \"The answer is ... \" + str(firstNumber * secondNumber)\n",
    "\n",
    "print(answer)"
   ]
  },
  {
   "cell_type": "code",
   "execution_count": 33,
   "metadata": {},
   "outputs": [
    {
     "name": "stdout",
     "output_type": "stream",
     "text": [
      "Enter a whole number: 2\n",
      "enter a second whole number: 4\n",
      "3.0\n"
     ]
    }
   ],
   "source": [
    "# [ ] get input of 2 numbers and display the average: (num1 + num2) divided by 2\n",
    "firstNumber = int(input(\"Enter a whole number: \"))\n",
    "secondNumber = int(input(\"enter a second whole number: \"))\n",
    "\n",
    "print((firstNumber + secondNumber) / 2)\n"
   ]
  },
  {
   "cell_type": "code",
   "execution_count": 35,
   "metadata": {},
   "outputs": [
    {
     "name": "stdout",
     "output_type": "stream",
     "text": [
      "Enter a whole number: 3\n",
      "enter a second whole number: 2\n",
      "1\n"
     ]
    }
   ],
   "source": [
    "# [ ] get input of 2 numbers and subtract the largest from the smallest (use an if statement to see which is larger)\n",
    "# show the answer\n",
    "firstNumber = int(input(\"Enter a whole number: \"))\n",
    "secondNumber = int(input(\"enter a second whole number: \"))\n",
    "\n",
    "if firstNumber > secondNumber:\n",
    "    print(firstNumber - secondNumber)\n",
    "else:\n",
    "    print(secondNumber - firstNumber)\n"
   ]
  },
  {
   "cell_type": "code",
   "execution_count": 40,
   "metadata": {},
   "outputs": [
    {
     "name": "stdout",
     "output_type": "stream",
     "text": [
      "Enter a whole number: 2\n",
      "enter a second whole number: 1\n",
      "2\n"
     ]
    }
   ],
   "source": [
    "# [ ] Divide a larger number by a smaller number and print the integer part of the result\n",
    "# don't divide by zero! if a zero is input make the result zero\n",
    "# [ ] cast the answer to an integer to cut off the decimals and print the result\n",
    "firstNumber = int(input(\"Enter a whole number: \"))\n",
    "secondNumber = int(input(\"enter a second whole number: \"))\n",
    "\n",
    "if firstNumber == 0:\n",
    "    print(0)\n",
    "elif secondNumber == 0:\n",
    "    print(0)\n",
    "elif firstNumber > secondNumber:\n",
    "    print(int(firstNumber / secondNumber))\n",
    "elif secondNumber < firstNumber:\n",
    "    print(int(secondNumber / firstNumber))\n",
    "\n"
   ]
  },
  {
   "cell_type": "markdown",
   "metadata": {},
   "source": [
    "[Terms of use](http://go.microsoft.com/fwlink/?LinkID=206977) &nbsp; [Privacy & cookies](https://go.microsoft.com/fwlink/?LinkId=521839) &nbsp; © 2017 Microsoft"
   ]
  }
 ],
 "metadata": {
  "anaconda-cloud": {},
  "kernelspec": {
   "display_name": "Python 3",
   "language": "python",
   "name": "python3"
  },
  "language_info": {
   "codemirror_mode": {
    "name": "ipython",
    "version": 3
   },
   "file_extension": ".py",
   "mimetype": "text/x-python",
   "name": "python",
   "nbconvert_exporter": "python",
   "pygments_lexer": "ipython3",
   "version": "3.8.5"
  }
 },
 "nbformat": 4,
 "nbformat_minor": 1
}
