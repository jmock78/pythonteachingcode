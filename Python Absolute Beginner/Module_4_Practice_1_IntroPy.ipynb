{
 "cells": [
  {
   "cell_type": "markdown",
   "metadata": {},
   "source": [
    "# 1-6.2 Intro Python Practice\n",
    "## Nested Conditionals\n",
    "<font size=\"5\" color=\"#00A0B2\"  face=\"verdana\"> <B>Student will be able to</B></font>\n",
    "- create nested conditional logic in code  \n",
    "- print format print using escape sequence (**\\**)"
   ]
  },
  {
   "cell_type": "markdown",
   "metadata": {},
   "source": [
    "# &nbsp;\n",
    "<font size=\"6\" color=\"#B24C00\"  face=\"verdana\"> <B>Tasks</B></font>  "
   ]
  },
  {
   "cell_type": "code",
   "execution_count": 7,
   "metadata": {},
   "outputs": [
    {
     "name": "stdout",
     "output_type": "stream",
     "text": [
      "The new line character is \"\\n\"\n"
     ]
    }
   ],
   "source": [
    "# [ ] print a string that outputs the following exactly: The new line character is \"\\n\"\n",
    "print(\"The new line character is \\\"\\\\n\\\"\")\n"
   ]
  },
  {
   "cell_type": "code",
   "execution_count": 8,
   "metadata": {},
   "outputs": [
    {
     "name": "stdout",
     "output_type": "stream",
     "text": [
      "\"That's how we escape!\"\n"
     ]
    }
   ],
   "source": [
    "# [ ] print output that is exactly (with quotes): \"That's how we escape!\"\n",
    "print(\"\\\"That's how we escape!\\\"\")\n"
   ]
  },
  {
   "cell_type": "code",
   "execution_count": 9,
   "metadata": {},
   "outputs": [
    {
     "name": "stdout",
     "output_type": "stream",
     "text": [
      "1\tone\n",
      "22\ttwo\n",
      "333\tthree\n"
     ]
    }
   ],
   "source": [
    "# [ ] with only 1 print statement and using No Space Characters, output the text commented below  \n",
    "\n",
    "# 1       one\n",
    "# 22      two\n",
    "# 333     three\n",
    "print(\"1\\tone\\n22\\ttwo\\n333\\tthree\")\n"
   ]
  },
  {
   "cell_type": "markdown",
   "metadata": {},
   "source": [
    "# &nbsp;\n",
    "## Program: quote_me() Function\n",
    "quote_me takes a string argument and returns a string that will display surrounded with **added double quotes** if printed  \n",
    "- check if passed string starts with a double quote (`\"\\\"\"`), then surround string with single quotations \n",
    "- if the passed string starts with single quote, or if doesn't start with a quotation mark, then surround with double quotations  \n",
    "\n",
    "Test the function code passing string input as the argument to quote_me() "
   ]
  },
  {
   "cell_type": "code",
   "execution_count": 21,
   "metadata": {},
   "outputs": [
    {
     "name": "stdout",
     "output_type": "stream",
     "text": [
      "\"'Hi'\"\n"
     ]
    }
   ],
   "source": [
    "# [ ] create and test quote_me()\n",
    "def quote_me(argument):\n",
    "    if argument.startswith(\"\\\"\"):\n",
    "        return \"\\'\" + argument + \"\\'\"\n",
    "    else:\n",
    "        return \"\\\"\" + argument + \"\\\"\"\n",
    "\n",
    "print(quote_me(\"\\'Hi\\'\"))"
   ]
  },
  {
   "cell_type": "markdown",
   "metadata": {},
   "source": [
    "# &nbsp;\n",
    "### Program: shirt order \n",
    "First get input for color and size  \n",
    "- White has sizes L, M \n",
    "- Blue has sizes M, S  \n",
    "\n",
    "print available or unavailable, then  \n",
    "print the order confirmation of color and size  \n",
    "\n",
    "*\n",
    "**hint**: set a variable \"available = False\" before nested if statements and  \n",
    "change to True if color and size are avaliable*"
   ]
  },
  {
   "cell_type": "code",
   "execution_count": 26,
   "metadata": {},
   "outputs": [
    {
     "name": "stdout",
     "output_type": "stream",
     "text": [
      "Enter a color (White, Blue): white\n",
      "Enter a size (S,M,L): l\n",
      "Available\n",
      "Order confirmation: White, L\n"
     ]
    }
   ],
   "source": [
    "# [ ] create shirt order using nested if \n",
    "available = False\n",
    "\n",
    "color = input(\"Enter a color (White, Blue): \").capitalize()\n",
    "size = input(\"Enter a size (S,M,L): \").upper()\n",
    "\n",
    "if color == \"White\":\n",
    "    if size == \"L\" or \"M\":\n",
    "        available = True\n",
    "        print(\"Available\")\n",
    "    else:\n",
    "        print(\"Unavailable\")\n",
    "        \n",
    "elif color == \"Blue\":\n",
    "    if size == \"M\" or \"S\":\n",
    "        availbale = True\n",
    "        print(\"Available\")   \n",
    "    else:\n",
    "        print(\"Unavailable\")\n",
    "else:\n",
    "    print(\"Unavailable\")\n",
    "    \n",
    "if available:\n",
    "    print(\"Order confirmation:\", color + \",\", size)\n",
    "\n",
    "        "
   ]
  },
  {
   "cell_type": "markdown",
   "metadata": {},
   "source": [
    "# &nbsp;\n",
    "## Program: str_analysis() Function\n",
    "Create the str_analysis() function that takes a string argument.  In the body of the function:\n",
    "- Check `if` string is digits  \n",
    "  - if digits: convert to `int` and check `if` greater than 99  \n",
    "    - if greater than 99, print a message about a \"big number\"  \n",
    "    - if not greater than 99, print message about \"small number\"    \n",
    "  - if not digits: check if string isalpha\n",
    "    - if isalpha print message about being all alpha\n",
    "    - if not isalpha print a message about being neither all alpha nor all digit  \n",
    "    \n",
    "call the function with a string from user input "
   ]
  },
  {
   "cell_type": "code",
   "execution_count": 34,
   "metadata": {},
   "outputs": [
    {
     "name": "stdout",
     "output_type": "stream",
     "text": [
      "Enter a string: adsf234\n",
      "neither all alpha nor all digit\n"
     ]
    }
   ],
   "source": [
    "# [ ] create and test str_analysis()\n",
    "def str_analysis(argument):\n",
    "    if argument.isdigit():\n",
    "        argument = int(argument)\n",
    "        if argument > 99:\n",
    "            print(\"big number\")\n",
    "        else:\n",
    "            print(\"small number\")\n",
    "    elif argument.isalpha():\n",
    "        print(\"all alpha\")\n",
    "    else:\n",
    "        print(\"neither all alpha nor all digit\")\n",
    "\n",
    "user_input = input(\"Enter a string: \")\n",
    "str_analysis(user_input)\n"
   ]
  },
  {
   "cell_type": "markdown",
   "metadata": {
    "collapsed": true
   },
   "source": [
    "# &nbsp;  \n",
    "### Program: ticket_check() - finds out if a seat is available  \n",
    "Call ticket_check() function with 2 arguments: *section* and *seats* requested and return True or False  \n",
    "- **section** is a string and expects: general, floor\n",
    "- **seats** is an integer and expects: 1 - 10  \n",
    "\n",
    "Check for valid section and seats\n",
    "- if section is *general* (or use startswith \"g\")  \n",
    "  - if seats is 1-10 return True \n",
    "- if section is *floor* (or use starts with \"f\")\n",
    "  - if seats is 1-4 return True  \n",
    "\n",
    "otherwise return False"
   ]
  },
  {
   "cell_type": "code",
   "execution_count": 41,
   "metadata": {},
   "outputs": [
    {
     "name": "stdout",
     "output_type": "stream",
     "text": [
      "Enter a section (General or Floor): h\n",
      "Enter a seat: 1\n"
     ]
    },
    {
     "data": {
      "text/plain": [
       "False"
      ]
     },
     "execution_count": 41,
     "metadata": {},
     "output_type": "execute_result"
    }
   ],
   "source": [
    "# [ ] create and call ticket_check()\n",
    "def ticket_check(section, seats):\n",
    "    if section.lower().startswith(\"g\"):\n",
    "        if int(seats) >= 1 and int(seats) <= 10:\n",
    "            return True\n",
    "        else:\n",
    "            return False\n",
    "    elif section.lower().startswith(\"f\"):\n",
    "        if int(seats) >= 1 and int(seats) <= 4:\n",
    "            return True\n",
    "        else:\n",
    "            return False\n",
    "    else:\n",
    "        return False\n",
    "    \n",
    "section = input(\"Enter a section (General or Floor): \")\n",
    "seats = input(\"Enter a seat: \")\n",
    "ticket_check(section, seats)"
   ]
  },
  {
   "cell_type": "markdown",
   "metadata": {
    "collapsed": true
   },
   "source": [
    "[Terms of use](http://go.microsoft.com/fwlink/?LinkID=206977) &nbsp; [Privacy & cookies](https://go.microsoft.com/fwlink/?LinkId=521839) &nbsp; © 2017 Microsoft"
   ]
  }
 ],
 "metadata": {
  "anaconda-cloud": {},
  "kernelspec": {
   "display_name": "Python 3",
   "language": "python",
   "name": "python3"
  },
  "language_info": {
   "codemirror_mode": {
    "name": "ipython",
    "version": 3
   },
   "file_extension": ".py",
   "mimetype": "text/x-python",
   "name": "python",
   "nbconvert_exporter": "python",
   "pygments_lexer": "ipython3",
   "version": "3.8.5"
  }
 },
 "nbformat": 4,
 "nbformat_minor": 1
}
